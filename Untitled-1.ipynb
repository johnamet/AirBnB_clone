{
 "cells": [
  {
   "cell_type": "code",
   "execution_count": 2,
   "metadata": {},
   "outputs": [],
   "source": [
    "#!/usr/bin/python3\n",
    "\"\"\"The Base model for other classes\"\"\"\n",
    "import uuid\n",
    "from datetime import datetime\n",
    "\n",
    "\n",
    "class BaseModel:\n",
    "    \"\"\"The base model has common attributes and\n",
    "        methods for other classes\n",
    "\n",
    "    Attributes:\n",
    "        id (str): A unique identifier that is randomly generated using UUID.\n",
    "        created_at (datetime): The timestamp when the instance was created.\n",
    "        updated_at (datetime): The timestamp when the instance was last updated.\n",
    "\n",
    "    \"\"\"\n",
    "\n",
    "    def __init__(self, *args, **kwargs) -> None:\n",
    "        \"\"\"Initialize a new instance of the BaseModel class.\n",
    "\n",
    "        Args:\n",
    "            kwargs (dict): Dictionary of attribute names and\n",
    "                           values. (default is None)\n",
    "        \"\"\"\n",
    "        \n",
    "        \"\"\"If it's a new instance, add a call to the method new(self) on storage\"\"\"\n",
    "        from models import storage\n",
    "        \n",
    "        if kwargs:\n",
    "            for key, value in kwargs.items():\n",
    "                if key == '__class__':\n",
    "                    continue # Skip '__class__' attribute\n",
    "                if key in ['created_at', 'updated_at']:\n",
    "                    # Convert string to datetime object based on the known format\n",
    "                    setattr(self, key, datetime.fromisoformat(value))\n",
    "                else:\n",
    "                    setattr(self, key, value)\n",
    "        else:\n",
    "            self.id = str(uuid.uuid4())\n",
    "            self.created_at = datetime.now()\n",
    "            self.updated_at = self.created_at\n",
    "            storage.new(self)\n",
    "\n",
    "    def __str__(self):\n",
    "        return \"[{}] ({}) \\\n",
    "                {}\".format(self.__class__.__name__, self.id, self.__dict__)\n",
    "\n",
    "    def save(self):\n",
    "        from models import storage\n",
    "        \"\"\"Updates the attribute updated_at with the current datetime\"\"\"\n",
    "        self.updated_at = datetime.now()\n",
    "        storage.save()\n",
    "\n",
    "    def to_dict(self):\n",
    "        \"\"\"Returns a dictionary containing all\n",
    "            keys/values of __dict__ of the instance\n",
    "        \"\"\"\n",
    "        self.__dict__[\"__class__\"] = self.__class__.__name__\n",
    "        self.__dict__[\"created_at\"] = self.created_at.isoformat()\n",
    "        self.__dict__[\"updated_at\"] = self.updated_at.isoformat()\n",
    "\n",
    "        return self.__dict__\n"
   ]
  },
  {
   "cell_type": "code",
   "execution_count": 3,
   "metadata": {},
   "outputs": [],
   "source": [
    "model = BaseModel()"
   ]
  },
  {
   "cell_type": "code",
   "execution_count": 4,
   "metadata": {},
   "outputs": [
    {
     "data": {
      "text/plain": [
       "{'id': '079f82f0-b5d3-48ef-9a7e-9b8e3ded8596',\n",
       " 'created_at': '2023-12-05T12:26:29.389180',\n",
       " 'updated_at': '2023-12-05T12:26:29.389180',\n",
       " '__class__': 'BaseModel'}"
      ]
     },
     "execution_count": 4,
     "metadata": {},
     "output_type": "execute_result"
    }
   ],
   "source": [
    "model.to_dict()"
   ]
  },
  {
   "cell_type": "code",
   "execution_count": 5,
   "metadata": {},
   "outputs": [
    {
     "name": "stdout",
     "output_type": "stream",
     "text": [
      "[BaseModel] (079f82f0-b5d3-48ef-9a7e-9b8e3ded8596)                 {'id': '079f82f0-b5d3-48ef-9a7e-9b8e3ded8596', 'created_at': '2023-12-05T12:26:29.389180', 'updated_at': '2023-12-05T12:26:29.389180', '__class__': 'BaseModel'}\n"
     ]
    }
   ],
   "source": [
    "print(model)"
   ]
  },
  {
   "cell_type": "code",
   "execution_count": 8,
   "metadata": {},
   "outputs": [],
   "source": [
    "import unittest\n",
    "from models import storage\n",
    "from models.base_model import BaseModel\n",
    "\n",
    "\n",
    "class TestBaseModelStorage(unittest.TestCase):\n",
    "    \"\"\"Test cases for BaseModel storage interactions.\"\"\"\n",
    "\n",
    "    def setUp(self):\n",
    "        \"\"\"Setup a BaseModel class and clear the storage.\"\"\"\n",
    "        self.model = BaseModel()\n",
    "        storage.__objects = {}\n",
    "\n",
    "    def test_new_instance_added_to_storage(self):\n",
    "        \"\"\"Test that a new instance of BaseModel is added to the storage.\"\"\"\n",
    "        # Check that the storage is initially empty\n",
    "        self.assertEqual(len(storage.all()), 0)\n",
    "\n",
    "        # Create a new instance of BaseModel\n",
    "        new_model = BaseModel()\n",
    "\n",
    "        # Check that the new instance is added to the storage\n",
    "        self.assertEqual(len(storage.all()), 1)\n",
    "        key = \"{}.{}\".format(new_model.__class__.__name__, new_model.id)\n",
    "        self.assertIn(key, storage.all())\n",
    "\n",
    "        # Check that the stored instance is the same as the created instance\n",
    "        stored_instance = storage.all()[key]\n",
    "        self.assertIs(new_model, stored_instance)\n",
    "\n",
    "    def test_existing_instance_not_added_to_storage(self):\n",
    "        \"\"\"Test that an existing instance of BaseModel is not added to the storage.\"\"\"\n",
    "        # Check that the storage is initially empty\n",
    "        self.assertEqual(len(storage.all()), 0)\n",
    "\n",
    "        # Create a new instance of BaseModel\n",
    "        new_model = BaseModel()\n",
    "\n",
    "        # Check that the new instance is added to the storage\n",
    "        self.assertEqual(len(storage.all()), 1)\n",
    "        key = \"{}.{}\".format(new_model.__class__.__name__, new_model.id)\n",
    "        self.assertIn(key, storage.all())\n",
    "\n",
    "        # Create another instance with the same ID\n",
    "        duplicate_model = BaseModel(id=new_model.id)\n",
    "\n",
    "        # Check that the duplicate instance is not added to the storage\n",
    "        self.assertEqual(len(storage.all()), 1)\n",
    "        self.assertNotIn(key, storage.all())\n",
    "\n",
    "    def test_reload_method(self):\n",
    "        \"\"\"Test that the reload method properly loads instances into storage.\"\"\"\n",
    "        # Create a new instance of BaseModel\n",
    "        new_model = BaseModel()\n",
    "\n",
    "        # Save the storage to a file\n",
    "        storage.save()\n",
    "\n",
    "        # Clear the storage\n",
    "        storage.__objects = {}\n",
    "\n",
    "        # Reload the storage\n",
    "        storage.reload()\n",
    "\n",
    "        # Check that the reloaded instance is in the storage\n",
    "        key = \"{}.{}\".format(new_model.__class__.__name__, new_model.id)\n",
    "        self.assertIn(key, storage.all())\n",
    "        reloaded_instance = storage.all()[key]\n",
    "        self.assertIs(new_model, reloaded_instance)\n",
    "\n",
    "\n"
   ]
  },
  {
   "cell_type": "code",
   "execution_count": 12,
   "metadata": {},
   "outputs": [],
   "source": [
    "from models import storage"
   ]
  },
  {
   "cell_type": "code",
   "execution_count": 14,
   "metadata": {},
   "outputs": [],
   "source": [
    "storage.all()\n",
    "storage.__objects = {}"
   ]
  },
  {
   "cell_type": "code",
   "execution_count": 16,
   "metadata": {},
   "outputs": [
    {
     "data": {
      "text/plain": [
       "6"
      ]
     },
     "execution_count": 16,
     "metadata": {},
     "output_type": "execute_result"
    }
   ],
   "source": [
    "len(storage.all())"
   ]
  },
  {
   "cell_type": "code",
   "execution_count": 17,
   "metadata": {},
   "outputs": [
    {
     "data": {
      "text/plain": [
       "{'BaseModel.ca35e998-df57-4b0e-a5f6-95af23be5784': <models.base_model.BaseModel at 0x7f883424d850>,\n",
       " 'BaseModel.262a8f90-595a-4ba3-b5a3-4e75d5a685b5': <models.base_model.BaseModel at 0x7f8834240f90>,\n",
       " 'BaseModel.633efc62-d841-4f89-adea-7692c783723b': <models.base_model.BaseModel at 0x7f883424dcd0>,\n",
       " 'BaseModel.0f3bde7b-e0b6-4ba3-97d5-d1deebefee95': <models.base_model.BaseModel at 0x7f883424dc90>,\n",
       " 'BaseModel.079f82f0-b5d3-48ef-9a7e-9b8e3ded8596': <__main__.BaseModel at 0x7f8834241cd0>,\n",
       " 'BaseModel.e8f86fcc-eb06-46df-9088-00249ad3f165': <models.base_model.BaseModel at 0x7f8837b37cd0>}"
      ]
     },
     "execution_count": 17,
     "metadata": {},
     "output_type": "execute_result"
    }
   ],
   "source": [
    "storage.all()"
   ]
  },
  {
   "cell_type": "code",
   "execution_count": 18,
   "metadata": {},
   "outputs": [],
   "source": [
    "keys = ['BaseModel.0608c8f9-3fcf-4962-a76c-181428322117', 'BaseModel.46ad473b-0915-4c1c-9526-8175f6a8adcd', 'BaseModel.0e3a3877-0078-4323-b261-93ca6141893a', 'BaseModel.74019652-99b4-489d-badc-0987a7bce416', 'BaseModel.0ea0a055-e7a0-48b9-8854-141cb02475cb', 'BaseModel.f18bc57d-c5dd-4f5c-9e8c-469769efa0f6', 'BaseModel.81a7d36a-9153-489f-b902-447897bd977b', 'BaseModel.8d72220b-bb3c-4676-a5c3-73dbf555c6ef', 'BaseModel.2eb5ce89-cdb1-48c6-a71c-1b417366bf3e', 'BaseModel.fa2eae3e-c169-41ec-9717-7e22cefea802', 'BaseModel.353b06a4-4e2c-4de8-8621-3d92713310c9', 'BaseModel.ee6b0739-d4fc-4eb8-92dd-50dff67afc8c', 'BaseModel.91a389d5-ed8b-46f5-96b1-edcc488b7cad', 'BaseModel.d94c5276-de7f-4397-8de9-5d97cb7b9011', 'BaseModel.0f748616-bd7a-42ca-9607-0a5450e85f29', 'BaseModel.31edc0b5-e624-45a2-92c7-6abe323c1446', 'BaseModel.ffaedfa2-305b-4198-957e-7d34061a058f', 'BaseModel.cab78009-6a35-42d4-9452-21128dd00bd7', 'BaseModel.abb2b17e-917d-4390-87f4-5e01a9359783', 'BaseModel.645de431-366c-4a28-ab32-34462ec437f3', 'BaseModel.4fa9a5ae-948c-4bd5-bc8c-da131aada85e', 'BaseModel.379ce3fb-3a4c-4e6e-bef6-dc0e7d73bb0e', 'BaseModel.cd0342b8-44e8-4990-a03f-6c8836d7a3e0', 'BaseModel.5bb35b43-0ce9-42bb-91dd-01dfb64e2f30', 'BaseModel.c07e9c44-072b-4d76-bef6-f149004213a2', 'BaseModel.ef023fa3-46f7-4975-8bb0-e230fc9b7c65', 'BaseModel.3051516d-a4a0-4df0-95c5-44ca40b0c585', 'BaseModel.2a0c6dfc-c1c6-456d-a6af-f8439569378c', 'BaseModel.060b9317-3472-4513-8db4-00ee95b4d345', 'BaseModel.0e65dfa3-023f-40f8-8b76-38c5b5f457f9', 'BaseModel.9f1fb16a-074b-4f08-a61a-edab02d1fac7', 'BaseModel.6edffee8-3920-4fed-a2f9-d3620a2bafb7', 'BaseModel.7beea9ca-3514-4086-bd71-47b303c7cff3', 'BaseModel.75ed4bd1-fcb1-4e0f-af88-ede3130c264b', 'BaseModel.a24dc6e3-ee4f-4c15-9f4f-acae2b507045', 'BaseModel.7a8aeed2-3b07-4987-82ca-54fac5cebf76', 'BaseModel.b755caa4-5260-4819-9d13-5f61d7cd5ba8', 'BaseModel.a2a24387-188a-4204-b713-0fac78866e37', 'BaseModel.15972031-7850-4efb-8100-e91854f15f0c']"
   ]
  },
  {
   "cell_type": "code",
   "execution_count": 20,
   "metadata": {},
   "outputs": [
    {
     "name": "stdout",
     "output_type": "stream",
     "text": [
      "BaseModel.0608c8f9-3fcf-4962-a76c-181428322117\n",
      "BaseModel.46ad473b-0915-4c1c-9526-8175f6a8adcd\n",
      "BaseModel.0e3a3877-0078-4323-b261-93ca6141893a\n",
      "BaseModel.74019652-99b4-489d-badc-0987a7bce416\n",
      "BaseModel.0ea0a055-e7a0-48b9-8854-141cb02475cb\n",
      "BaseModel.f18bc57d-c5dd-4f5c-9e8c-469769efa0f6\n",
      "BaseModel.81a7d36a-9153-489f-b902-447897bd977b\n",
      "BaseModel.8d72220b-bb3c-4676-a5c3-73dbf555c6ef\n",
      "BaseModel.2eb5ce89-cdb1-48c6-a71c-1b417366bf3e\n",
      "BaseModel.fa2eae3e-c169-41ec-9717-7e22cefea802\n",
      "BaseModel.353b06a4-4e2c-4de8-8621-3d92713310c9\n",
      "BaseModel.ee6b0739-d4fc-4eb8-92dd-50dff67afc8c\n",
      "BaseModel.91a389d5-ed8b-46f5-96b1-edcc488b7cad\n",
      "BaseModel.d94c5276-de7f-4397-8de9-5d97cb7b9011\n",
      "BaseModel.0f748616-bd7a-42ca-9607-0a5450e85f29\n",
      "BaseModel.31edc0b5-e624-45a2-92c7-6abe323c1446\n",
      "BaseModel.ffaedfa2-305b-4198-957e-7d34061a058f\n",
      "BaseModel.cab78009-6a35-42d4-9452-21128dd00bd7\n",
      "BaseModel.abb2b17e-917d-4390-87f4-5e01a9359783\n",
      "BaseModel.645de431-366c-4a28-ab32-34462ec437f3\n",
      "BaseModel.4fa9a5ae-948c-4bd5-bc8c-da131aada85e\n",
      "BaseModel.379ce3fb-3a4c-4e6e-bef6-dc0e7d73bb0e\n",
      "BaseModel.cd0342b8-44e8-4990-a03f-6c8836d7a3e0\n",
      "BaseModel.5bb35b43-0ce9-42bb-91dd-01dfb64e2f30\n",
      "BaseModel.c07e9c44-072b-4d76-bef6-f149004213a2\n",
      "BaseModel.ef023fa3-46f7-4975-8bb0-e230fc9b7c65\n",
      "BaseModel.3051516d-a4a0-4df0-95c5-44ca40b0c585\n",
      "BaseModel.2a0c6dfc-c1c6-456d-a6af-f8439569378c\n",
      "BaseModel.060b9317-3472-4513-8db4-00ee95b4d345\n",
      "BaseModel.0e65dfa3-023f-40f8-8b76-38c5b5f457f9\n",
      "BaseModel.9f1fb16a-074b-4f08-a61a-edab02d1fac7\n",
      "BaseModel.6edffee8-3920-4fed-a2f9-d3620a2bafb7\n",
      "BaseModel.7beea9ca-3514-4086-bd71-47b303c7cff3\n",
      "BaseModel.75ed4bd1-fcb1-4e0f-af88-ede3130c264b\n",
      "BaseModel.a24dc6e3-ee4f-4c15-9f4f-acae2b507045\n",
      "BaseModel.7a8aeed2-3b07-4987-82ca-54fac5cebf76\n",
      "BaseModel.b755caa4-5260-4819-9d13-5f61d7cd5ba8\n",
      "BaseModel.a2a24387-188a-4204-b713-0fac78866e37\n",
      "BaseModel.15972031-7850-4efb-8100-e91854f15f0c\n"
     ]
    }
   ],
   "source": [
    "for i in keys:\n",
    "    print(i)"
   ]
  },
  {
   "cell_type": "code",
   "execution_count": null,
   "metadata": {},
   "outputs": [],
   "source": []
  }
 ],
 "metadata": {
  "kernelspec": {
   "display_name": "base",
   "language": "python",
   "name": "python3"
  },
  "language_info": {
   "codemirror_mode": {
    "name": "ipython",
    "version": 3
   },
   "file_extension": ".py",
   "mimetype": "text/x-python",
   "name": "python",
   "nbconvert_exporter": "python",
   "pygments_lexer": "ipython3",
   "version": "3.11.3"
  }
 },
 "nbformat": 4,
 "nbformat_minor": 2
}
